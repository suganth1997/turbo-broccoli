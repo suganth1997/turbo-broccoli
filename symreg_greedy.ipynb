{
 "cells": [
  {
   "cell_type": "code",
   "execution_count": 1,
   "metadata": {},
   "outputs": [],
   "source": [
    "import copy\n",
    "import sympy as sp\n",
    "from symreg_utils import *"
   ]
  },
  {
   "cell_type": "code",
   "execution_count": 9,
   "metadata": {},
   "outputs": [],
   "source": [
    "class SymReg:\n",
    "    def __init__(self, n_vars):\n",
    "        self.n = n_vars\n",
    "        self.expr = ExpressionTree()\n",
    "\n",
    "    def mutate_leaf(self, leaf):\n",
    "        leaf.left = copy.copy(leaf)\n",
    "        leaf.data = 'Add'\n",
    "        leaf.right = TreeNode('c')\n",
    "        leaf.dtype = 'o'\n",
    "\n",
    "    def mutate(self):\n",
    "        leaves = self.expr.getLeafNodes()\n",
    "        self.mutate_leaf(leaves[0])\n"
   ]
  },
  {
   "cell_type": "code",
   "execution_count": 10,
   "metadata": {},
   "outputs": [],
   "source": [
    "sym = SymReg(1)"
   ]
  },
  {
   "cell_type": "code",
   "execution_count": 11,
   "metadata": {},
   "outputs": [],
   "source": [
    "# expr = sym.expr\n",
    "# expr.root.left = copy.copy(expr.root)\n",
    "# expr.root.right = TreeNode('x')\n",
    "# expr.root.data = 'Add'\n",
    "# expr.root.dtype = 'o'\n",
    "sym.mutate()"
   ]
  },
  {
   "cell_type": "code",
   "execution_count": 12,
   "metadata": {},
   "outputs": [],
   "source": [
    "expr_str = sym.expr.getExpression()"
   ]
  },
  {
   "cell_type": "code",
   "execution_count": 4,
   "metadata": {},
   "outputs": [],
   "source": [
    "leaves = expr.getLeafNodes()"
   ]
  },
  {
   "cell_type": "code",
   "execution_count": 13,
   "metadata": {},
   "outputs": [
    {
     "data": {
      "text/latex": [
       "$\\displaystyle 2 c$"
      ],
      "text/plain": [
       "2*c"
      ]
     },
     "execution_count": 13,
     "metadata": {},
     "output_type": "execute_result"
    }
   ],
   "source": [
    "sp.parsing.sympy_parser.parse_expr(expr_str)"
   ]
  },
  {
   "cell_type": "code",
   "execution_count": null,
   "metadata": {},
   "outputs": [],
   "source": []
  },
  {
   "cell_type": "code",
   "execution_count": null,
   "metadata": {},
   "outputs": [],
   "source": []
  }
 ],
 "metadata": {
  "kernelspec": {
   "display_name": "Python 3.8.10 64-bit",
   "language": "python",
   "name": "python3"
  },
  "language_info": {
   "codemirror_mode": {
    "name": "ipython",
    "version": 3
   },
   "file_extension": ".py",
   "mimetype": "text/x-python",
   "name": "python",
   "nbconvert_exporter": "python",
   "pygments_lexer": "ipython3",
   "version": "3.8.10"
  },
  "orig_nbformat": 4,
  "vscode": {
   "interpreter": {
    "hash": "31f2aee4e71d21fbe5cf8b01ff0e069b9275f58929596ceb00d14d90e3e16cd6"
   }
  }
 },
 "nbformat": 4,
 "nbformat_minor": 2
}
